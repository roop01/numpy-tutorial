{
  "nbformat": 4,
  "nbformat_minor": 0,
  "metadata": {
    "colab": {
      "provenance": [],
      "authorship_tag": "ABX9TyNVcsK46aUrS2ls9JuaZZwp",
      "include_colab_link": true
    },
    "kernelspec": {
      "name": "python3",
      "display_name": "Python 3"
    },
    "language_info": {
      "name": "python"
    }
  },
  "cells": [
    {
      "cell_type": "markdown",
      "metadata": {
        "id": "view-in-github",
        "colab_type": "text"
      },
      "source": [
        "<a href=\"https://colab.research.google.com/github/roop01/numpy-tutorial/blob/main/01_numpy_excercise.ipynb\" target=\"_parent\"><img src=\"https://colab.research.google.com/assets/colab-badge.svg\" alt=\"Open In Colab\"/></a>"
      ]
    },
    {
      "cell_type": "markdown",
      "source": [
        "# NumPy Excercises\n",
        "\n",
        "\n",
        " **Problem 1.1**\n",
        "\n",
        " Lee decides to walk 10000 steps every day to combat the effect that lockdown has had on his body’s agility, mobility, flexibility and strength. Consider the following data from fitness tracker over a period of 10 days.\n",
        " [6012,7079,6886,7230,4598,5564,6971,7763,8032,9569]\n",
        "\n",
        "\n",
        "1. Represent the above data in a 10x2 array. In each row, the first element should contain day number and second element should contain steps walked.\n",
        "2. Lee notices that the tracker’s battery dies every day at 7 pm. Lee discovers that on an average, he walks 2000 steps every day after 7 pm. Perform an appropriate operation on your array to add 2000 steps to all the observations.\n",
        "3. Write a program that returns the steps walked if the steps walked are more than 9000.\n",
        "4. Print an array containing steps walked in sorted order."
      ],
      "metadata": {
        "id": "o33gdS40PnlZ"
      }
    },
    {
      "cell_type": "code",
      "execution_count": 3,
      "metadata": {
        "colab": {
          "base_uri": "https://localhost:8080/"
        },
        "id": "HQdjV4uePeL6",
        "outputId": "08ed6893-ad66-4897-f494-684e897c3052"
      },
      "outputs": [
        {
          "output_type": "stream",
          "name": "stdout",
          "text": [
            "(10, 2)\n",
            "[[   1 6012]\n",
            " [   2 7079]\n",
            " [   3 6886]\n",
            " [   4 7230]\n",
            " [   5 4598]\n",
            " [   6 5564]\n",
            " [   7 6971]\n",
            " [   8 7763]\n",
            " [   9 8032]\n",
            " [  10 9569]]\n"
          ]
        }
      ],
      "source": [
        "#Represent the above data in a 10x2 array.\n",
        "import numpy as np\n",
        "steps = np.array([[1,6012],\n",
        "                  [2,7079],\n",
        "                  [3,6886],\n",
        "                  [4,7230],\n",
        "                  [5,4598],\n",
        "                  [6,5564],\n",
        "                  [7,6971],\n",
        "                  [8,7763],\n",
        "                  [9,8032],\n",
        "                  [10,9569],\n",
        "                  ])\n",
        "\n",
        "print(steps.shape)\n",
        "print(steps)"
      ]
    },
    {
      "cell_type": "code",
      "source": [
        "#data in a 10x2 array.\n",
        "count = np.arange(1,11)\n",
        "steps_count =  [6012,7079,6886,7230,4598,5564,6971,7763,8032,9569]\n",
        "\n",
        "step_records = np.array((count,steps_count)).T\n",
        "print(step_records)\n",
        "print(step_records.shape)"
      ],
      "metadata": {
        "colab": {
          "base_uri": "https://localhost:8080/"
        },
        "id": "bE1HDKmTRevJ",
        "outputId": "df406cfa-cd98-4997-85d2-9cada7f3a0e0"
      },
      "execution_count": 18,
      "outputs": [
        {
          "output_type": "stream",
          "name": "stdout",
          "text": [
            "[[   1 6012]\n",
            " [   2 7079]\n",
            " [   3 6886]\n",
            " [   4 7230]\n",
            " [   5 4598]\n",
            " [   6 5564]\n",
            " [   7 6971]\n",
            " [   8 7763]\n",
            " [   9 8032]\n",
            " [  10 9569]]\n",
            "(10, 2)\n"
          ]
        }
      ]
    },
    {
      "cell_type": "code",
      "source": [
        "#add 2000 steps to all the observations\n",
        "updated_steps_count = np.copy(step_records)\n",
        "updated_steps_count[0:, 1]  += 2000\n",
        "print(updated_steps_count)"
      ],
      "metadata": {
        "colab": {
          "base_uri": "https://localhost:8080/"
        },
        "id": "Ujlb9MKQSd0T",
        "outputId": "93e70f9b-e9ae-42b1-aa87-26bb26232fef"
      },
      "execution_count": 22,
      "outputs": [
        {
          "output_type": "stream",
          "name": "stdout",
          "text": [
            "[[    1  8012]\n",
            " [    2  9079]\n",
            " [    3  8886]\n",
            " [    4  9230]\n",
            " [    5  6598]\n",
            " [    6  7564]\n",
            " [    7  8971]\n",
            " [    8  9763]\n",
            " [    9 10032]\n",
            " [   10 11569]]\n"
          ]
        }
      ]
    },
    {
      "cell_type": "code",
      "source": [
        "#Write a program that returns the steps walked if the steps walked are more than 9000.\n",
        "\n",
        "#print(updated_steps_count[updated_steps_count[0:,1] > 9000])\n",
        "a = updated_steps_count[0:,1] > 9000\n",
        "print(updated_steps_count[a])\n"
      ],
      "metadata": {
        "colab": {
          "base_uri": "https://localhost:8080/"
        },
        "id": "Y1EVW4NlV7QA",
        "outputId": "5274ff93-65e4-4a67-ea40-129d3f1d03ac"
      },
      "execution_count": 31,
      "outputs": [
        {
          "output_type": "stream",
          "name": "stdout",
          "text": [
            "[[    2  9079]\n",
            " [    4  9230]\n",
            " [    8  9763]\n",
            " [    9 10032]\n",
            " [   10 11569]]\n"
          ]
        }
      ]
    },
    {
      "cell_type": "code",
      "source": [
        "#Print an array containing steps walked in sorted order.\n",
        "#When you use axis in the sort, it sorts every column individually,\n",
        "#what you want is to get indices of the sorted rows from the selected column\n",
        "#(-1 is equivalent to the last column), and then reorder your original array.\n",
        "\n",
        "i = np.argsort(updated_steps_count[:,-1])\n",
        "updated_steps_count[i]"
      ],
      "metadata": {
        "colab": {
          "base_uri": "https://localhost:8080/"
        },
        "id": "6XWr8lZoW76v",
        "outputId": "75401cc7-3834-4bde-9218-a00ca447bf49"
      },
      "execution_count": 37,
      "outputs": [
        {
          "output_type": "execute_result",
          "data": {
            "text/plain": [
              "array([[    5,  6598],\n",
              "       [    6,  7564],\n",
              "       [    1,  8012],\n",
              "       [    3,  8886],\n",
              "       [    7,  8971],\n",
              "       [    2,  9079],\n",
              "       [    4,  9230],\n",
              "       [    8,  9763],\n",
              "       [    9, 10032],\n",
              "       [   10, 11569]])"
            ]
          },
          "metadata": {},
          "execution_count": 37
        }
      ]
    },
    {
      "cell_type": "code",
      "source": [],
      "metadata": {
        "id": "eX_e1zzFZvYC"
      },
      "execution_count": null,
      "outputs": []
    }
  ]
}