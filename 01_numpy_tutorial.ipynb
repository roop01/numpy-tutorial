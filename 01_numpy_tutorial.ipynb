{
  "nbformat": 4,
  "nbformat_minor": 0,
  "metadata": {
    "colab": {
      "provenance": [],
      "mount_file_id": "1SNJWKSWh9eEDVOz7HcsQMQ1W9WKIcavQ",
      "authorship_tag": "ABX9TyNrnsRAoM0lN32hmmfinVg7",
      "include_colab_link": true
    },
    "kernelspec": {
      "name": "python3",
      "display_name": "Python 3"
    },
    "language_info": {
      "name": "python"
    }
  },
  "cells": [
    {
      "cell_type": "markdown",
      "metadata": {
        "id": "view-in-github",
        "colab_type": "text"
      },
      "source": [
        "<a href=\"https://colab.research.google.com/github/roop01/numpy-tutorial/blob/main/01_numpy_tutorial.ipynb\" target=\"_parent\"><img src=\"https://colab.research.google.com/assets/colab-badge.svg\" alt=\"Open In Colab\"/></a>"
      ]
    },
    {
      "cell_type": "markdown",
      "source": [
        "# Python Numerical Computation using Numpy\n",
        "\n",
        "“NumPy is the fundamental package for scientific computing with Python. It contains among other things:\n",
        "\n",
        "* a powerful N-dimensional array object\n",
        "* sophisticated (broadcasting) functions\n",
        "* tools for integrating C/C++ and Fortran code\n",
        "* useful linear algebra, Fourier transform, and random number capabilities\n",
        "\n",
        "Besides its obvious scientific uses, NumPy can also be used as an efficient multi-dimensional container of generic data. Arbitrary data-types can be defined. This allows NumPy to seamlessly and speedily integrate with a wide variety of databases.\n",
        "\n",
        "**The Main Benefit of NumPy**\n",
        "\n",
        "The main benefit of NumPy is that it allows for extremely fast data generation and handling. NumPy has its own built-in data structure called an array which is similar to the normal Python list, but can store and operate on data much more efficiently.\n",
        "\n",
        "**How to work with numerical data in Python**\n",
        "\n",
        "1. How to turn Python lists into Numpy arrays\n",
        "2. Multi-dimensional Numpy arrays and their benefits\n",
        "3. Array operations, broadcasting, indexing, and slicing\n",
        "4. How to work with CSV data files using Numpy\n",
        "\n",
        "Data in Data Science refers to numerical data like stock prices, sales figures, sport score and sensor readings etc.\n",
        "\n",
        "Numpy library provides many specialized data structures, functions and other tools for numerical computing in python.\n",
        "\n",
        "\n",
        "Ref [Tutorial](https://www.freecodecamp.org/news/exploratory-data-analysis-with-numpy-pandas-matplotlib-seaborn/)"
      ],
      "metadata": {
        "id": "a2x-3Q7VfT6w"
      }
    },
    {
      "cell_type": "markdown",
      "source": [
        "For example if we want to access the climate suitability to grow apple in a region.\n",
        "We would formulate a relationship between annual yield of apples (tons per hectare) and climatic conditions like average temperature  (in degrees Fahrenheit), rainfall (in millimeters), and average relative humidity (in percentage) as a linear equation.\n",
        "\n",
        "yield_of_apples = w1 * temperature + w2 * rainfall + w3 * humidity\n",
        "\n",
        "This is simple linear model is used to make predictions. Based on historical data and statistical analysis we can find the values of w1, w2 and w3 as below.\n",
        "\n",
        "w1, w2, w3 = 0.3, 0.2, 0.5\n",
        "\n",
        "We can define some variables to record climate data for a region as -\n",
        "temp = 73\n",
        "rainfall = 67\n",
        "humidity = 43\n",
        "\n",
        "The liner equation after subsitution -\n",
        "\n",
        "yield of apples = .3*73 + .2*67 + .5*43 = 56.8\n",
        "\n",
        "The expected yield of apples in region is 56.8 tons per hectare.\n",
        "\n",
        "To predict for multiple regions we can represent the climate data for each region as a vector, that is a list of numbers.\n",
        "\n",
        "kinnur = [73, 67, 43]\n",
        "manali = [91, 88, 64]\n",
        "shimla = [87, 134, 58]\n",
        "sissu = [102, 43, 37]\n",
        "kullu = [69, 96, 70]\n",
        "\n",
        "weights = [w1, w2, w3]\n",
        "\n",
        "Yield can be calculated according to below function for multi[lt regions:\n",
        "def crop_yield(region, weights):\n",
        "    result = 0\n",
        "    for x, w in zip(region, weights):\n",
        "        result += x * w\n",
        "    return result\n",
        "    \n",
        "crop_yield(kinnur, weights)\n",
        "56.8\n",
        "\n",
        "crop_yield(manali, weights)\n",
        "76.9\n",
        "\n",
        "crop_yield(kullu, weights)\n",
        "74.9\n",
        "\n",
        "The calculation performed by the crop_yield (element-wise multiplication of two vectors and taking a sum of the results) is also called the dot product.\n",
        "\n",
        "The Numpy library provides a built-in function to compute the dot product of two vectors.\n",
        "\n",
        "Numpy is library python library to implement methematical functions.\n",
        "\n",
        "To create a numpy array:\n"
      ],
      "metadata": {
        "id": "w2Prx-3BX6tN"
      }
    },
    {
      "cell_type": "code",
      "source": [
        "import numpy as np\n",
        "kinnur = np.array([73, 67, 43])\n",
        "print(kinnur)\n",
        "print(kinnur.shape)"
      ],
      "metadata": {
        "colab": {
          "base_uri": "https://localhost:8080/"
        },
        "id": "u5LgKWzkcLDY",
        "outputId": "3a103e58-537f-4d00-b416-bae39fa84605"
      },
      "execution_count": 108,
      "outputs": [
        {
          "output_type": "stream",
          "name": "stdout",
          "text": [
            "[73 67 43]\n",
            "(3,)\n"
          ]
        }
      ]
    },
    {
      "cell_type": "code",
      "source": [
        "weights = np.array([.3,.2,.5])\n",
        "type(weights)"
      ],
      "metadata": {
        "colab": {
          "base_uri": "https://localhost:8080/"
        },
        "id": "UuufyWaBcLGs",
        "outputId": "1b31ae18-2e15-4089-c4c5-2b7493cc9295"
      },
      "execution_count": 109,
      "outputs": [
        {
          "output_type": "execute_result",
          "data": {
            "text/plain": [
              "numpy.ndarray"
            ]
          },
          "metadata": {},
          "execution_count": 109
        }
      ]
    },
    {
      "cell_type": "code",
      "source": [
        "kinnur[1]"
      ],
      "metadata": {
        "colab": {
          "base_uri": "https://localhost:8080/"
        },
        "id": "yxT55BRYcVFs",
        "outputId": "ef1d89ec-9b6d-453f-a83d-e35e70f0328b"
      },
      "execution_count": 110,
      "outputs": [
        {
          "output_type": "execute_result",
          "data": {
            "text/plain": [
              "67"
            ]
          },
          "metadata": {},
          "execution_count": 110
        }
      ]
    },
    {
      "cell_type": "markdown",
      "source": [
        "# How to operate on Numpy arrays\n",
        "\n",
        "**dot product of two arrays**\n",
        "\n",
        "\n",
        "The * performs elementwise multiplication of two arrays if they have same dimensions"
      ],
      "metadata": {
        "id": "XiyjYZ3weJi2"
      }
    },
    {
      "cell_type": "code",
      "source": [
        "np.dot(kinnur, weights)\n",
        "(kinnur*weights).sum()"
      ],
      "metadata": {
        "colab": {
          "base_uri": "https://localhost:8080/"
        },
        "id": "jMCvHV6seFxF",
        "outputId": "d8e43246-9aca-4a47-b5be-d8093f6664b3"
      },
      "execution_count": 111,
      "outputs": [
        {
          "output_type": "execute_result",
          "data": {
            "text/plain": [
              "56.8"
            ]
          },
          "metadata": {},
          "execution_count": 111
        }
      ]
    },
    {
      "cell_type": "code",
      "source": [
        "arr1 = np.array([1,2,3])\n",
        "arr2 = np.array([4,5,6])\n",
        "\n",
        "arr1*arr2"
      ],
      "metadata": {
        "colab": {
          "base_uri": "https://localhost:8080/"
        },
        "id": "9NDMEU2Je69b",
        "outputId": "968fccb9-3ddd-4907-c396-b9c698ce3e21"
      },
      "execution_count": 112,
      "outputs": [
        {
          "output_type": "execute_result",
          "data": {
            "text/plain": [
              "array([ 4, 10, 18])"
            ]
          },
          "metadata": {},
          "execution_count": 112
        }
      ]
    },
    {
      "cell_type": "code",
      "source": [
        "arr2.sum()"
      ],
      "metadata": {
        "colab": {
          "base_uri": "https://localhost:8080/"
        },
        "id": "_bziEbOff-Ht",
        "outputId": "8c9d6f19-f498-4283-f2df-5180c2bd5e86"
      },
      "execution_count": 113,
      "outputs": [
        {
          "output_type": "execute_result",
          "data": {
            "text/plain": [
              "15"
            ]
          },
          "metadata": {},
          "execution_count": 113
        }
      ]
    },
    {
      "cell_type": "markdown",
      "source": [
        "# Benefits of using Numpy\n",
        "\n",
        "1. Easy to use\n",
        "2. Performance : Numpy operations and functions are written internally using C+ which makes it faster than python statements and loops.\n",
        "3. It is faster for large datasets\n",
        "4. Multidimensional arrays can be represented and worked upon faster with minimum coding.\n"
      ],
      "metadata": {
        "id": "dLhieIuzgGBr"
      }
    },
    {
      "cell_type": "markdown",
      "source": [
        "# The Two Different Types of NumPy Arrays\n",
        "\n",
        "There are two different types of NumPy arrays: vectors and matrices.\n",
        "\n",
        "Vectors are one-dimensional NumPy arrays, and look like this:"
      ],
      "metadata": {
        "id": "qBNqbveVdU9W"
      }
    },
    {
      "cell_type": "code",
      "source": [
        "my_vector = np.array(['this', 'is', 'a', 'vector'])\n",
        "my_vector"
      ],
      "metadata": {
        "colab": {
          "base_uri": "https://localhost:8080/"
        },
        "id": "FHT2ZAueda8-",
        "outputId": "ff33f782-ed11-4345-8b0d-440eb8d38a44"
      },
      "execution_count": 114,
      "outputs": [
        {
          "output_type": "execute_result",
          "data": {
            "text/plain": [
              "array(['this', 'is', 'a', 'vector'], dtype='<U6')"
            ]
          },
          "metadata": {},
          "execution_count": 114
        }
      ]
    },
    {
      "cell_type": "markdown",
      "source": [
        "Matrices are two-dimensional arrays and are created by passing a list of lists into the np.array() method"
      ],
      "metadata": {
        "id": "PAdmjlcOdkmq"
      }
    },
    {
      "cell_type": "code",
      "source": [
        "my_matrix = [[1, 2, 3],[4, 5, 6],[7, 8, 9]]\n",
        "print(np.array(my_matrix))"
      ],
      "metadata": {
        "colab": {
          "base_uri": "https://localhost:8080/"
        },
        "id": "ba7C--QAdpRL",
        "outputId": "c1ffab31-e290-495b-d7a7-32d1c4bc9cdf"
      },
      "execution_count": 115,
      "outputs": [
        {
          "output_type": "stream",
          "name": "stdout",
          "text": [
            "[[1 2 3]\n",
            " [4 5 6]\n",
            " [7 8 9]]\n"
          ]
        }
      ]
    },
    {
      "cell_type": "markdown",
      "source": [
        "# Multidimensional Numpy Arrays\n",
        "\n",
        "We have 2D and 3D arrays in Numpy"
      ],
      "metadata": {
        "id": "ehXHDwrhmFeF"
      }
    },
    {
      "cell_type": "code",
      "source": [
        "#2D array 5*3\n",
        "climate_data = np.array([[73, 67, 43],\n",
        "                         [91, 88, 64],\n",
        "                         [87, 134, 58],\n",
        "                         [102, 43, 37],\n",
        "                         [69, 96, 70]])\n",
        "\n",
        "climate_data.shape"
      ],
      "metadata": {
        "colab": {
          "base_uri": "https://localhost:8080/"
        },
        "id": "xSwK3ziygB0C",
        "outputId": "214200ed-7816-43f0-8738-02fc3e8e8c78"
      },
      "execution_count": 116,
      "outputs": [
        {
          "output_type": "execute_result",
          "data": {
            "text/plain": [
              "(5, 3)"
            ]
          },
          "metadata": {},
          "execution_count": 116
        }
      ]
    },
    {
      "cell_type": "code",
      "source": [
        "#3D array\n",
        "\n",
        "arr3 = np.array([[[11,22,33],\n",
        "                 [44,55,66]],\n",
        "                [[77,88,99],\n",
        "                 [1,2,3]]])\n",
        "arr3.shape"
      ],
      "metadata": {
        "colab": {
          "base_uri": "https://localhost:8080/"
        },
        "id": "_U37v_C6jFKg",
        "outputId": "fc2e64dd-5448-4e47-a888-6950b2d3bba9"
      },
      "execution_count": 117,
      "outputs": [
        {
          "output_type": "execute_result",
          "data": {
            "text/plain": [
              "(2, 2, 3)"
            ]
          },
          "metadata": {},
          "execution_count": 117
        }
      ]
    },
    {
      "cell_type": "code",
      "source": [
        "arr3.dtype"
      ],
      "metadata": {
        "colab": {
          "base_uri": "https://localhost:8080/"
        },
        "id": "jGQAVuAIkT9s",
        "outputId": "9be3cf40-7dd2-4155-e5fc-1a91df0b9d50"
      },
      "execution_count": 118,
      "outputs": [
        {
          "output_type": "execute_result",
          "data": {
            "text/plain": [
              "dtype('int64')"
            ]
          },
          "metadata": {},
          "execution_count": 118
        }
      ]
    },
    {
      "cell_type": "code",
      "source": [
        "arr4 = np.array([[[11,22,33],\n",
        "                 [44,55,66]],\n",
        "                [[77,88,99],\n",
        "                 [1.0,2,3]]])\n",
        "arr4.dtype"
      ],
      "metadata": {
        "colab": {
          "base_uri": "https://localhost:8080/"
        },
        "id": "Dv2aJ__HlEYx",
        "outputId": "35b9fce3-bd89-4388-c468-e03b5cc57094"
      },
      "execution_count": 119,
      "outputs": [
        {
          "output_type": "execute_result",
          "data": {
            "text/plain": [
              "dtype('float64')"
            ]
          },
          "metadata": {},
          "execution_count": 119
        }
      ]
    },
    {
      "cell_type": "code",
      "source": [
        "#matrix multiplication\n",
        "climate_data@weights"
      ],
      "metadata": {
        "colab": {
          "base_uri": "https://localhost:8080/"
        },
        "id": "ZnFCGeG3lpvj",
        "outputId": "4cbac716-a5e7-4bfa-8d1d-64c9a5c1bdea"
      },
      "execution_count": 120,
      "outputs": [
        {
          "output_type": "execute_result",
          "data": {
            "text/plain": [
              "array([56.8, 76.9, 81.9, 57.7, 74.9])"
            ]
          },
          "metadata": {},
          "execution_count": 120
        }
      ]
    },
    {
      "cell_type": "markdown",
      "source": [
        "# Work with CSV Data Files\n",
        "We have a climate data file in csv format which contains 10000 climate measurements (temperature, rainfall, humidity)\n",
        "\n",
        "\n",
        "\n",
        "\n"
      ],
      "metadata": {
        "id": "qSCtCaB3l4OK"
      }
    },
    {
      "cell_type": "code",
      "source": [
        "climate_data = np.genfromtxt('/content/sample_data/Climate_data_numpy.txt', delimiter = ',' , skip_header=1)\n",
        "climate_data"
      ],
      "metadata": {
        "id": "gQx41hcEltoK",
        "colab": {
          "base_uri": "https://localhost:8080/"
        },
        "outputId": "d6e7e296-849e-42bb-dd5b-d703d4ca35d0"
      },
      "execution_count": 121,
      "outputs": [
        {
          "output_type": "execute_result",
          "data": {
            "text/plain": [
              "array([[25., 76., 99.],\n",
              "       [39., 65., 70.],\n",
              "       [59., 45., 77.],\n",
              "       ...,\n",
              "       [99., 62., 58.],\n",
              "       [70., 71., 91.],\n",
              "       [92., 39., 76.]])"
            ]
          },
          "metadata": {},
          "execution_count": 121
        }
      ]
    },
    {
      "cell_type": "code",
      "source": [
        "climate_data.shape"
      ],
      "metadata": {
        "colab": {
          "base_uri": "https://localhost:8080/"
        },
        "id": "Q_DG_AJtnqdI",
        "outputId": "58e79c96-40d0-4422-a916-bd1da8e465c4"
      },
      "execution_count": 122,
      "outputs": [
        {
          "output_type": "execute_result",
          "data": {
            "text/plain": [
              "(10000, 3)"
            ]
          },
          "metadata": {},
          "execution_count": 122
        }
      ]
    },
    {
      "cell_type": "code",
      "source": [
        "#matrix multiplication\n",
        "weights = np.array([0.3, 0.2, 0.5])\n",
        "yields = climate_data@weights\n",
        "yields"
      ],
      "metadata": {
        "colab": {
          "base_uri": "https://localhost:8080/"
        },
        "id": "H4sbV2bZn2Qc",
        "outputId": "8e515477-c014-410c-e5a0-1b1c8d45708c"
      },
      "execution_count": 123,
      "outputs": [
        {
          "output_type": "execute_result",
          "data": {
            "text/plain": [
              "array([72.2, 59.7, 65.2, ..., 71.1, 80.7, 73.4])"
            ]
          },
          "metadata": {},
          "execution_count": 123
        }
      ]
    },
    {
      "cell_type": "code",
      "source": [
        "yields.shape"
      ],
      "metadata": {
        "colab": {
          "base_uri": "https://localhost:8080/"
        },
        "id": "EOeAvaVMq7gI",
        "outputId": "a3c007fe-4d00-4168-8beb-a0a6a5b8c83a"
      },
      "execution_count": 124,
      "outputs": [
        {
          "output_type": "execute_result",
          "data": {
            "text/plain": [
              "(10000,)"
            ]
          },
          "metadata": {},
          "execution_count": 124
        }
      ]
    },
    {
      "cell_type": "markdown",
      "source": [
        "We want to add yields to climate_data as fourth column using concatenate function of numpy.\n",
        "\n",
        "We are adding two arrays and both sould be of same dimension and the same length alomg each except the dimension used for concatenation.\n",
        "The axis argument specifies the dimention for concatenation.\n",
        "\n",
        " We use the np.reshape function to change the shape of yields from (10000,) to (10000,1)."
      ],
      "metadata": {
        "id": "XvH9b3tqte4L"
      }
    },
    {
      "cell_type": "code",
      "source": [
        "climate_results = np.concatenate((climate_data, yields.reshape(10000,1)), axis =1)\n",
        "climate_results"
      ],
      "metadata": {
        "colab": {
          "base_uri": "https://localhost:8080/"
        },
        "id": "GFKkGGO8sxgR",
        "outputId": "64e91ead-73ab-48f3-8ff8-07b6a4cb89eb"
      },
      "execution_count": 125,
      "outputs": [
        {
          "output_type": "execute_result",
          "data": {
            "text/plain": [
              "array([[25. , 76. , 99. , 72.2],\n",
              "       [39. , 65. , 70. , 59.7],\n",
              "       [59. , 45. , 77. , 65.2],\n",
              "       ...,\n",
              "       [99. , 62. , 58. , 71.1],\n",
              "       [70. , 71. , 91. , 80.7],\n",
              "       [92. , 39. , 76. , 73.4]])"
            ]
          },
          "metadata": {},
          "execution_count": 125
        }
      ]
    },
    {
      "cell_type": "code",
      "source": [
        "climate_results.shape"
      ],
      "metadata": {
        "colab": {
          "base_uri": "https://localhost:8080/"
        },
        "id": "TguPZiw7tV26",
        "outputId": "ee819d5d-31bf-475c-8433-0305d55dde8d"
      },
      "execution_count": 126,
      "outputs": [
        {
          "output_type": "execute_result",
          "data": {
            "text/plain": [
              "(10000, 4)"
            ]
          },
          "metadata": {},
          "execution_count": 126
        }
      ]
    },
    {
      "cell_type": "code",
      "source": [
        "np.savetxt('climate_result.txt',\n",
        "           climate_results,\n",
        "           fmt = '%.2f',\n",
        "           delimiter = ',',\n",
        "           header='temperature,rainfall,humidity,yield_apples',\n",
        "           comments='')"
      ],
      "metadata": {
        "id": "VKOV7F1staXK"
      },
      "execution_count": 127,
      "outputs": []
    },
    {
      "cell_type": "markdown",
      "source": [
        "# Numpy Operations\n",
        "\n",
        "Numpy provides hundreds of functions for performing operations on arrays. Here are some commonly used functions:\n",
        "\n",
        "1. Mathematics: np.sum, np.exp, np.round, arithmetic operators.\n",
        "2. Array manipulation: np.reshape, np.stack, np.concatenate, np.split\n",
        "3. Linear Algebra: np.matmul, np.dot, np.transpose, np.eigvals\n",
        "4. Statistics: np.mean, np.median, np.std, np.max\n"
      ],
      "metadata": {
        "id": "tsbIVxjNvhXt"
      }
    },
    {
      "cell_type": "code",
      "source": [
        "x = np.ones(4)\n",
        "y = np.arange(1,5)\n",
        "print(x)\n",
        "print(y)\n",
        "print(np.vstack((x, y)))"
      ],
      "metadata": {
        "colab": {
          "base_uri": "https://localhost:8080/"
        },
        "id": "dF-g-d4FHzki",
        "outputId": "0d18ab63-1586-4d04-c97c-940e7a5807b4"
      },
      "execution_count": 128,
      "outputs": [
        {
          "output_type": "stream",
          "name": "stdout",
          "text": [
            "[1. 1. 1. 1.]\n",
            "[1 2 3 4]\n",
            "[[1. 1. 1. 1.]\n",
            " [1. 2. 3. 4.]]\n"
          ]
        }
      ]
    },
    {
      "cell_type": "code",
      "source": [
        "#Transpose\n",
        "print(np.vstack((x, y)).T)"
      ],
      "metadata": {
        "colab": {
          "base_uri": "https://localhost:8080/"
        },
        "id": "9ELmGElvH3sY",
        "outputId": "506e81f3-aaad-42ea-ee94-b41d128c9697"
      },
      "execution_count": 129,
      "outputs": [
        {
          "output_type": "stream",
          "name": "stdout",
          "text": [
            "[[1. 1.]\n",
            " [1. 2.]\n",
            " [1. 3.]\n",
            " [1. 4.]]\n"
          ]
        }
      ]
    },
    {
      "cell_type": "code",
      "source": [
        "print(np.hstack((x, y)))"
      ],
      "metadata": {
        "colab": {
          "base_uri": "https://localhost:8080/"
        },
        "id": "22KfzA9eICIk",
        "outputId": "0956e444-7ae9-4dfd-98cb-88cf1312d042"
      },
      "execution_count": 130,
      "outputs": [
        {
          "output_type": "stream",
          "name": "stdout",
          "text": [
            "[1. 1. 1. 1. 1. 2. 3. 4.]\n"
          ]
        }
      ]
    },
    {
      "cell_type": "code",
      "source": [
        "#In a single 1D array\n",
        "x = np.arange(1,3)\n",
        "y = np.arange(3,5)\n",
        "z= np.arange(5,7)\n",
        "np.concatenate([x,y,z])\n"
      ],
      "metadata": {
        "colab": {
          "base_uri": "https://localhost:8080/"
        },
        "id": "TUZmWCuOIH7K",
        "outputId": "f5dab6ac-df42-470c-c883-d6c123c348b5"
      },
      "execution_count": 131,
      "outputs": [
        {
          "output_type": "execute_result",
          "data": {
            "text/plain": [
              "array([1, 2, 3, 4, 5, 6])"
            ]
          },
          "metadata": {},
          "execution_count": 131
        }
      ]
    },
    {
      "cell_type": "markdown",
      "source": [
        "# Numpy Arithmetic Operations, Broadcasting, and Comparison\n",
        "\n",
        "Numpy arrays support arithmetic operators like +, -, *, etc. You can perform an arithmetic operation with a single number (also called a scalar) or with another array of the same shape."
      ],
      "metadata": {
        "id": "qnMUAaaiIkKs"
      }
    },
    {
      "cell_type": "code",
      "source": [
        "arr_1 = np.array([[1,2,3,4],\n",
        "                  [5,6,7,8],\n",
        "                  [9,1,2,3]])\n",
        "\n",
        "arr_2 = np.array([[11, 12, 13, 14],\n",
        "                 [15, 16, 17, 18],\n",
        "                 [19, 11, 12, 13]])\n",
        "\n",
        "#adding a number to each element\n",
        "print(arr_1+3)\n",
        "\n",
        "#element wise substraction\n",
        "print(arr_1-arr_2)\n",
        "\n",
        "#Division by a number\n",
        "print(arr_2/2)\n",
        "\n",
        "# Element-wise multiplication\n",
        "print(arr_1 * arr_2)\n",
        "\n",
        "# Modulus with scalar\n",
        "print(arr_2 % 4)"
      ],
      "metadata": {
        "colab": {
          "base_uri": "https://localhost:8080/"
        },
        "id": "LH51BV3wIap5",
        "outputId": "cc4e1d2e-ec0b-453b-9382-df0f7de385b9"
      },
      "execution_count": 132,
      "outputs": [
        {
          "output_type": "stream",
          "name": "stdout",
          "text": [
            "[[ 4  5  6  7]\n",
            " [ 8  9 10 11]\n",
            " [12  4  5  6]]\n",
            "[[-10 -10 -10 -10]\n",
            " [-10 -10 -10 -10]\n",
            " [-10 -10 -10 -10]]\n",
            "[[5.5 6.  6.5 7. ]\n",
            " [7.5 8.  8.5 9. ]\n",
            " [9.5 5.5 6.  6.5]]\n",
            "[[ 11  24  39  56]\n",
            " [ 75  96 119 144]\n",
            " [171  11  24  39]]\n",
            "[[3 0 1 2]\n",
            " [3 0 1 2]\n",
            " [3 3 0 1]]\n"
          ]
        }
      ]
    },
    {
      "cell_type": "markdown",
      "source": [
        "# Numpy Array Broadcasting\n",
        "\n",
        "Broadcasting is allowing arithmetic operations between two arrays with different numbers of dimensions but compatible shapes."
      ],
      "metadata": {
        "id": "CONfrFItJ89i"
      }
    },
    {
      "cell_type": "code",
      "source": [
        "a1 = np.array([[1, 2, 3, 4],\n",
        "                 [5, 6, 7, 8],\n",
        "                 [9, 1, 2, 3]])\n",
        "\n",
        "a1.shape"
      ],
      "metadata": {
        "colab": {
          "base_uri": "https://localhost:8080/"
        },
        "id": "V073pqs-JKHa",
        "outputId": "972fa43b-90a8-4f0a-eb72-c7fa304fef4d"
      },
      "execution_count": 133,
      "outputs": [
        {
          "output_type": "execute_result",
          "data": {
            "text/plain": [
              "(3, 4)"
            ]
          },
          "metadata": {},
          "execution_count": 133
        }
      ]
    },
    {
      "cell_type": "code",
      "source": [
        "a2 = np.array([4,5,6,7])\n",
        "a2.shape"
      ],
      "metadata": {
        "colab": {
          "base_uri": "https://localhost:8080/"
        },
        "id": "12hze2wRKNbF",
        "outputId": "64938f64-7892-4156-8847-196c1357a3f7"
      },
      "execution_count": 134,
      "outputs": [
        {
          "output_type": "execute_result",
          "data": {
            "text/plain": [
              "(4,)"
            ]
          },
          "metadata": {},
          "execution_count": 134
        }
      ]
    },
    {
      "cell_type": "code",
      "source": [
        "print(a1 + a2)"
      ],
      "metadata": {
        "colab": {
          "base_uri": "https://localhost:8080/"
        },
        "id": "Y3S2gVoyKWGN",
        "outputId": "2d2d15b7-1b1c-4462-f01f-0a1240f17cc5"
      },
      "execution_count": 135,
      "outputs": [
        {
          "output_type": "stream",
          "name": "stdout",
          "text": [
            "[[ 5  7  9 11]\n",
            " [ 9 11 13 15]\n",
            " [13  6  8 10]]\n"
          ]
        }
      ]
    },
    {
      "cell_type": "markdown",
      "source": [
        "When the expression a1 + a2 is evaluated, a2 (which has the shape (4,)) is replicated three times to match the shape (3, 4) of a1. Numpy performs the replication without actually creating three copies of the smaller dimension array, thus improving performance and using lower memory.\n",
        "\n",
        "Broadcasting only works if one of the arrays can be replicated to match the other array's shape."
      ],
      "metadata": {
        "id": "d6jqQbD1KncO"
      }
    },
    {
      "cell_type": "code",
      "source": [
        "a3 = np.array([7,8])\n",
        "a3.shape\n"
      ],
      "metadata": {
        "colab": {
          "base_uri": "https://localhost:8080/"
        },
        "id": "7MWjx0-rKbly",
        "outputId": "9f0f91a0-49d6-4595-b787-2b8a78a16a01"
      },
      "execution_count": 138,
      "outputs": [
        {
          "output_type": "execute_result",
          "data": {
            "text/plain": [
              "(2,)"
            ]
          },
          "metadata": {},
          "execution_count": 138
        }
      ]
    },
    {
      "cell_type": "code",
      "source": [
        "#Broadcasting only works if one of the arrays can be replicated to match the other array's shape.\n",
        "print(a1 + a3)"
      ],
      "metadata": {
        "colab": {
          "base_uri": "https://localhost:8080/",
          "height": 164
        },
        "id": "ZOlVLpC6jztJ",
        "outputId": "a450d6aa-5a1a-4660-f247-bbfc7fff7675"
      },
      "execution_count": 150,
      "outputs": [
        {
          "output_type": "error",
          "ename": "ValueError",
          "evalue": "operands could not be broadcast together with shapes (3,4) (2,) ",
          "traceback": [
            "\u001b[0;31m---------------------------------------------------------------------------\u001b[0m",
            "\u001b[0;31mValueError\u001b[0m                                Traceback (most recent call last)",
            "\u001b[0;32m<ipython-input-150-3ef2e0b8eb02>\u001b[0m in \u001b[0;36m<cell line: 2>\u001b[0;34m()\u001b[0m\n\u001b[1;32m      1\u001b[0m \u001b[0;31m#Broadcasting only works if one of the arrays can be replicated to match the other array's shape.\u001b[0m\u001b[0;34m\u001b[0m\u001b[0;34m\u001b[0m\u001b[0m\n\u001b[0;32m----> 2\u001b[0;31m \u001b[0mprint\u001b[0m\u001b[0;34m(\u001b[0m\u001b[0ma1\u001b[0m \u001b[0;34m+\u001b[0m \u001b[0ma3\u001b[0m\u001b[0;34m)\u001b[0m\u001b[0;34m\u001b[0m\u001b[0;34m\u001b[0m\u001b[0m\n\u001b[0m",
            "\u001b[0;31mValueError\u001b[0m: operands could not be broadcast together with shapes (3,4) (2,) "
          ]
        }
      ]
    },
    {
      "cell_type": "markdown",
      "source": [
        "# Numpy Array Comparision\n",
        "\n",
        "Numpy arrays also support comparison operations like ==, !=, > and so on. It is elementwise comparision and result is array of booleans. True represents 1 and False represents 0 when you use booleans in arithmetic operations\n",
        "\n"
      ],
      "metadata": {
        "id": "dkeazVPdL_ho"
      }
    },
    {
      "cell_type": "code",
      "source": [
        "a4 = np.array([[1, 2, 3], [3, 4, 5]])\n",
        "a5 = np.array([[2, 2, 3], [1, 2, 5]])\n",
        "\n",
        "print(a4 == a5)\n",
        "\n",
        "print(a4 != a5)\n",
        "\n",
        "print(a4 >= a5)\n",
        "\n",
        "print(a4 < a5)"
      ],
      "metadata": {
        "colab": {
          "base_uri": "https://localhost:8080/"
        },
        "id": "NaER7sbaLyj5",
        "outputId": "bcd8b137-0a62-40d2-f540-f81f44e1e1c7"
      },
      "execution_count": 140,
      "outputs": [
        {
          "output_type": "stream",
          "name": "stdout",
          "text": [
            "[[False  True  True]\n",
            " [False False  True]]\n",
            "[[ True False False]\n",
            " [ True  True False]]\n",
            "[[False  True  True]\n",
            " [ True  True  True]]\n",
            "[[ True False False]\n",
            " [False False False]]\n"
          ]
        }
      ]
    },
    {
      "cell_type": "markdown",
      "source": [
        "Array comparision is frequently used to count the number of equal elements in two arrays using sum method"
      ],
      "metadata": {
        "id": "HEMLIBxQM8ez"
      }
    },
    {
      "cell_type": "code",
      "source": [
        "print((a4 == a5).sum())"
      ],
      "metadata": {
        "colab": {
          "base_uri": "https://localhost:8080/"
        },
        "id": "YJPwWtgGMepF",
        "outputId": "f66c157f-7b19-445e-f19e-d9e5c090c268"
      },
      "execution_count": 141,
      "outputs": [
        {
          "output_type": "stream",
          "name": "stdout",
          "text": [
            "3\n"
          ]
        }
      ]
    },
    {
      "cell_type": "markdown",
      "source": [
        "# Numpy Array Indexing and Slicing\n",
        "\n",
        "Numpy arrays use python's list indexing. It also takes comma seperated list of indices or ranges to select a specific element or subarray.\n"
      ],
      "metadata": {
        "id": "vsj9lxD7NuWF"
      }
    },
    {
      "cell_type": "code",
      "source": [
        "a6 = np.array([\n",
        "    [[11, 12, 13, 14],\n",
        "     [13, 14, 15, 19]],\n",
        "\n",
        "    [[15, 16, 17, 21],\n",
        "     [63, 92, 36, 18]],\n",
        "\n",
        "    [[98, 32, 81, 23],\n",
        "     [17, 18, 19.5, 43]]])\n",
        "\n",
        "print(a6.shape)\n",
        "print(\"-------------\")\n",
        "# Single element\n",
        "print(a6[2,1,2])\n",
        "print(\"-------------\")\n",
        "#subarray using ranges\n",
        "print(a6[1:, 0:1, :2])\n",
        "print(\"-------------\")\n",
        "# Mixing indices and ranges\n",
        "print(a6[1:, 1, 3])\n",
        "print(\"-------------\")\n",
        "print(a6[1:, 1, :3])\n",
        "print(\"-------------\")\n",
        "# Using fewer indices\n",
        "print(a6[1])\n",
        "print(\"-------------\")\n",
        "print(a6[:2,1])\n",
        "print(\"-------------\")\n",
        "# Indexerror Using too many indices\n",
        "print(a6[1,3,2,1])"
      ],
      "metadata": {
        "colab": {
          "base_uri": "https://localhost:8080/",
          "height": 526
        },
        "id": "pJn7GuIbNmEj",
        "outputId": "493ff69e-63c7-4dc0-d6dc-2c930b004e4e"
      },
      "execution_count": 142,
      "outputs": [
        {
          "output_type": "stream",
          "name": "stdout",
          "text": [
            "(3, 2, 4)\n",
            "-------------\n",
            "19.5\n",
            "-------------\n",
            "[[[15. 16.]]\n",
            "\n",
            " [[98. 32.]]]\n",
            "-------------\n",
            "[18. 43.]\n",
            "-------------\n",
            "[[63.  92.  36. ]\n",
            " [17.  18.  19.5]]\n",
            "-------------\n",
            "[[15. 16. 17. 21.]\n",
            " [63. 92. 36. 18.]]\n",
            "-------------\n",
            "[[13. 14. 15. 19.]\n",
            " [63. 92. 36. 18.]]\n",
            "-------------\n"
          ]
        },
        {
          "output_type": "error",
          "ename": "IndexError",
          "evalue": "too many indices for array: array is 3-dimensional, but 4 were indexed",
          "traceback": [
            "\u001b[0;31m---------------------------------------------------------------------------\u001b[0m",
            "\u001b[0;31mIndexError\u001b[0m                                Traceback (most recent call last)",
            "\u001b[0;32m<ipython-input-142-ee98c2b63d97>\u001b[0m in \u001b[0;36m<cell line: 30>\u001b[0;34m()\u001b[0m\n\u001b[1;32m     28\u001b[0m \u001b[0mprint\u001b[0m\u001b[0;34m(\u001b[0m\u001b[0;34m\"-------------\"\u001b[0m\u001b[0;34m)\u001b[0m\u001b[0;34m\u001b[0m\u001b[0;34m\u001b[0m\u001b[0m\n\u001b[1;32m     29\u001b[0m \u001b[0;31m# Using too many indices\u001b[0m\u001b[0;34m\u001b[0m\u001b[0;34m\u001b[0m\u001b[0m\n\u001b[0;32m---> 30\u001b[0;31m \u001b[0mprint\u001b[0m\u001b[0;34m(\u001b[0m\u001b[0ma6\u001b[0m\u001b[0;34m[\u001b[0m\u001b[0;36m1\u001b[0m\u001b[0;34m,\u001b[0m\u001b[0;36m3\u001b[0m\u001b[0;34m,\u001b[0m\u001b[0;36m2\u001b[0m\u001b[0;34m,\u001b[0m\u001b[0;36m1\u001b[0m\u001b[0;34m]\u001b[0m\u001b[0;34m)\u001b[0m\u001b[0;34m\u001b[0m\u001b[0;34m\u001b[0m\u001b[0m\n\u001b[0m",
            "\u001b[0;31mIndexError\u001b[0m: too many indices for array: array is 3-dimensional, but 4 were indexed"
          ]
        }
      ]
    },
    {
      "cell_type": "markdown",
      "source": [
        "# How to Create Numpy Arrays – Other Methods\n",
        "\n",
        "\n"
      ],
      "metadata": {
        "id": "-fq7iQx7Xka7"
      }
    },
    {
      "cell_type": "code",
      "source": [
        "# All zeros\n",
        "print(np.zeros((3, 2)))\n",
        "print(\"~~~~~~~~~~~~~~~~~~~~~~~~~\")\n",
        "\n",
        "# All ones\n",
        "print(np.ones([2, 2, 3]))\n",
        "print(\"~~~~~~~~~~~~~~~~~~~~~~~~~\")\n",
        "\n",
        "# Identity matrix\n",
        "print(np.eye(3))\n",
        "print(\"~~~~~~~~~~~~~~~~~~~~~~~~~\")\n",
        "\n",
        "# Random vector - random numbers between 0 and 1.\n",
        "print(np.random.rand(5))\n",
        "print(\"~~~~~~~~~~~~~~~~~~~~~~~~~\")\n",
        "\n",
        "# Random matrix - random numbers between 0 and 1, following the normal distribution.\n",
        "print(np.random.randn(2, 3))\n",
        "print(\"~~~~~~~~~~~~~~~~~~~~~~~~~\")\n",
        "\n",
        "#Random integers\n",
        "print(np.random.randint(10, 20, 6))\n",
        "print(\"~~~~~~~~~~~~~~~~~~~~~~~~~\")\n",
        "\n",
        "# Fixed value\n",
        "print(np.full([2, 3], 42))\n",
        "print(\"~~~~~~~~~~~~~~~~~~~~~~~~~\")\n",
        "\n",
        "# Range with start, end and step\n",
        "print(np.arange(10, 90, 3))\n",
        "print(\"~~~~~~~~~~~~~~~~~~~~~~~~~\")\n",
        "\n",
        "# Equally spaced numbers in a range\n",
        "print(np.linspace(3, 27, 9))\n"
      ],
      "metadata": {
        "colab": {
          "base_uri": "https://localhost:8080/"
        },
        "id": "EEvYZa4YPmNF",
        "outputId": "672e9a78-592d-4a0b-f721-c2cf0c746fc2"
      },
      "execution_count": 143,
      "outputs": [
        {
          "output_type": "stream",
          "name": "stdout",
          "text": [
            "[[0. 0.]\n",
            " [0. 0.]\n",
            " [0. 0.]]\n",
            "~~~~~~~~~~~~~~~~~~~~~~~~~\n",
            "[[[1. 1. 1.]\n",
            "  [1. 1. 1.]]\n",
            "\n",
            " [[1. 1. 1.]\n",
            "  [1. 1. 1.]]]\n",
            "~~~~~~~~~~~~~~~~~~~~~~~~~\n",
            "[[1. 0. 0.]\n",
            " [0. 1. 0.]\n",
            " [0. 0. 1.]]\n",
            "~~~~~~~~~~~~~~~~~~~~~~~~~\n",
            "[0.09664555 0.19643125 0.67754233 0.13226249 0.60488857]\n",
            "~~~~~~~~~~~~~~~~~~~~~~~~~\n",
            "[[ 0.82169992  1.77118708  1.15275089]\n",
            " [-1.30309696  0.6665522  -0.08004355]]\n",
            "~~~~~~~~~~~~~~~~~~~~~~~~~\n",
            "[13 16 13 14 16 13]\n",
            "~~~~~~~~~~~~~~~~~~~~~~~~~\n",
            "[[42 42 42]\n",
            " [42 42 42]]\n",
            "~~~~~~~~~~~~~~~~~~~~~~~~~\n",
            "[10 13 16 19 22 25 28 31 34 37 40 43 46 49 52 55 58 61 64 67 70 73 76 79\n",
            " 82 85 88]\n",
            "~~~~~~~~~~~~~~~~~~~~~~~~~\n",
            "[ 3.  6.  9. 12. 15. 18. 21. 24. 27.]\n"
          ]
        }
      ]
    },
    {
      "cell_type": "markdown",
      "source": [
        "# Other Numpy methods\n",
        "\n",
        "Below are some of the popular Numpy Methods"
      ],
      "metadata": {
        "id": "7uQBzLIEd3-a"
      }
    },
    {
      "cell_type": "code",
      "source": [
        "#Equally divide a range of numbers into intervals.\n",
        "print(np.linspace(0, 1, 10))\n",
        "print(\"-----------------------------\")\n",
        "\n",
        "#Identity Matrix A square matrix whose diagonal values are all 1\n",
        "print(np.eye(5))\n",
        "print(\"-----------------------------\")\n",
        "\n",
        "#Maximum and Minimum Value Of A NumPy Array\n",
        "print(a6.max())\n",
        "print(a6.min())\n",
        "print(\"-----------------------------\")\n",
        "\n",
        "#Index of min and max value in numpy array\n",
        "print(a6.argmax())\n",
        "print(a6.argmin())"
      ],
      "metadata": {
        "colab": {
          "base_uri": "https://localhost:8080/"
        },
        "id": "HtwDdipFYZDa",
        "outputId": "7cd73df6-d831-48cb-95b1-bb7ca236ca94"
      },
      "execution_count": 146,
      "outputs": [
        {
          "output_type": "stream",
          "name": "stdout",
          "text": [
            "[0.         0.11111111 0.22222222 0.33333333 0.44444444 0.55555556\n",
            " 0.66666667 0.77777778 0.88888889 1.        ]\n",
            "-----------------------------\n",
            "[[1. 0. 0. 0. 0.]\n",
            " [0. 1. 0. 0. 0.]\n",
            " [0. 0. 1. 0. 0.]\n",
            " [0. 0. 0. 1. 0.]\n",
            " [0. 0. 0. 0. 1.]]\n",
            "-----------------------------\n",
            "98.0\n",
            "11.0\n",
            "-----------------------------\n",
            "16\n",
            "0\n"
          ]
        }
      ]
    },
    {
      "cell_type": "code",
      "source": [
        "#calculate the square root, exponential, log, sin of every element in an array\n",
        "print(np.sqrt(a6))\n",
        "print(np.exp(a6))\n",
        "print(np.log(a6))\n",
        "print(np.sin(a6))"
      ],
      "metadata": {
        "colab": {
          "base_uri": "https://localhost:8080/"
        },
        "id": "Bf3ysMqket77",
        "outputId": "83e0589a-7c55-4ae6-fd1f-2fcf7501c57a"
      },
      "execution_count": 148,
      "outputs": [
        {
          "output_type": "stream",
          "name": "stdout",
          "text": [
            "[[[3.31662479 3.46410162 3.60555128 3.74165739]\n",
            "  [3.60555128 3.74165739 3.87298335 4.35889894]]\n",
            "\n",
            " [[3.87298335 4.         4.12310563 4.58257569]\n",
            "  [7.93725393 9.59166305 6.         4.24264069]]\n",
            "\n",
            " [[9.89949494 5.65685425 9.         4.79583152]\n",
            "  [4.12310563 4.24264069 4.41588043 6.55743852]]]\n",
            "[[[5.98741417e+04 1.62754791e+05 4.42413392e+05 1.20260428e+06]\n",
            "  [4.42413392e+05 1.20260428e+06 3.26901737e+06 1.78482301e+08]]\n",
            "\n",
            " [[3.26901737e+06 8.88611052e+06 2.41549528e+07 1.31881573e+09]\n",
            "  [2.29378316e+27 9.01762841e+39 4.31123155e+15 6.56599691e+07]]\n",
            "\n",
            " [[3.63797095e+42 7.89629602e+13 1.50609731e+35 9.74480345e+09]\n",
            "  [2.41549528e+07 6.56599691e+07 2.94267566e+08 4.72783947e+18]]]\n",
            "[[[2.39789527 2.48490665 2.56494936 2.63905733]\n",
            "  [2.56494936 2.63905733 2.7080502  2.94443898]]\n",
            "\n",
            " [[2.7080502  2.77258872 2.83321334 3.04452244]\n",
            "  [4.14313473 4.52178858 3.58351894 2.89037176]]\n",
            "\n",
            " [[4.58496748 3.4657359  4.39444915 3.13549422]\n",
            "  [2.83321334 2.89037176 2.97041447 3.76120012]]]\n",
            "[[[-0.99999021 -0.53657292  0.42016704  0.99060736]\n",
            "  [ 0.42016704  0.99060736  0.65028784  0.14987721]]\n",
            "\n",
            " [[ 0.65028784 -0.28790332 -0.96139749  0.83665564]\n",
            "  [ 0.1673557  -0.77946607 -0.99177885 -0.75098725]]\n",
            "\n",
            " [[-0.57338187  0.55142668 -0.62988799 -0.8462204 ]\n",
            "  [-0.96139749 -0.75098725  0.60553987 -0.83177474]]]\n"
          ]
        }
      ]
    },
    {
      "cell_type": "code",
      "source": [
        "#Round each element to 2 decimal places\n",
        "arr = np.random.rand(4)\n",
        "print(arr)\n",
        "print(np.round(arr, 2))\n",
        "print(\"----------------------------------\")\n",
        "\n",
        "print(arr[arr > 0.7])"
      ],
      "metadata": {
        "colab": {
          "base_uri": "https://localhost:8080/"
        },
        "id": "rvc7Pjx1iFNx",
        "outputId": "a9238be3-e199-4da3-f4bc-e479ee3067a7"
      },
      "execution_count": 149,
      "outputs": [
        {
          "output_type": "stream",
          "name": "stdout",
          "text": [
            "[0.91981576 0.53267625 0.3916807  0.13476192]\n",
            "[0.92 0.53 0.39 0.13]\n",
            "----------------------------------\n",
            "[0.91981576]\n"
          ]
        }
      ]
    },
    {
      "cell_type": "markdown",
      "source": [
        "**That's all for now!**"
      ],
      "metadata": {
        "id": "QnMSI-LIjbmn"
      }
    },
    {
      "cell_type": "code",
      "source": [],
      "metadata": {
        "id": "UxUs4KgsiO8W"
      },
      "execution_count": 149,
      "outputs": []
    }
  ]
}